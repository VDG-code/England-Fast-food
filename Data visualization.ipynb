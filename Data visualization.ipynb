{
  "nbformat": 4,
  "nbformat_minor": 0,
  "metadata": {
    "colab": {
      "name": "Untitled7.ipynb",
      "provenance": []
    },
    "kernelspec": {
      "name": "python3",
      "display_name": "Python 3"
    },
    "language_info": {
      "name": "python"
    }
  },
  "cells": [
    {
      "cell_type": "markdown",
      "source": [
        "# **Installation and import of prerequisite packages**"
      ],
      "metadata": {
        "id": "y_j6N0GB5OYD"
      }
    },
    {
      "cell_type": "code",
      "execution_count": 1,
      "metadata": {
        "colab": {
          "base_uri": "https://localhost:8080/"
        },
        "id": "Va310vNjW70c",
        "outputId": "92281910-0741-4251-b694-1fa3a6acd3fd"
      },
      "outputs": [
        {
          "output_type": "stream",
          "name": "stdout",
          "text": [
            "Requirement already satisfied: pandas in /usr/local/lib/python3.7/dist-packages (1.3.5)\n",
            "Requirement already satisfied: pytz>=2017.3 in /usr/local/lib/python3.7/dist-packages (from pandas) (2018.9)\n",
            "Requirement already satisfied: python-dateutil>=2.7.3 in /usr/local/lib/python3.7/dist-packages (from pandas) (2.8.2)\n",
            "Requirement already satisfied: numpy>=1.17.3 in /usr/local/lib/python3.7/dist-packages (from pandas) (1.19.5)\n",
            "Requirement already satisfied: six>=1.5 in /usr/local/lib/python3.7/dist-packages (from python-dateutil>=2.7.3->pandas) (1.15.0)\n"
          ]
        }
      ],
      "source": [
        "pip install pandas"
      ]
    },
    {
      "cell_type": "code",
      "source": [
        "pip install geopandas"
      ],
      "metadata": {
        "colab": {
          "base_uri": "https://localhost:8080/"
        },
        "id": "eovkMuIHW-rH",
        "outputId": "690b4874-b097-4f2a-f1f6-87c47c702128"
      },
      "execution_count": 2,
      "outputs": [
        {
          "output_type": "stream",
          "name": "stdout",
          "text": [
            "Collecting geopandas\n",
            "  Downloading geopandas-0.10.2-py2.py3-none-any.whl (1.0 MB)\n",
            "\u001b[K     |████████████████████████████████| 1.0 MB 5.1 MB/s \n",
            "\u001b[?25hCollecting fiona>=1.8\n",
            "  Downloading Fiona-1.8.20-cp37-cp37m-manylinux1_x86_64.whl (15.4 MB)\n",
            "\u001b[K     |████████████████████████████████| 15.4 MB 41.0 MB/s \n",
            "\u001b[?25hRequirement already satisfied: shapely>=1.6 in /usr/local/lib/python3.7/dist-packages (from geopandas) (1.8.0)\n",
            "Collecting pyproj>=2.2.0\n",
            "  Downloading pyproj-3.2.1-cp37-cp37m-manylinux2010_x86_64.whl (6.3 MB)\n",
            "\u001b[K     |████████████████████████████████| 6.3 MB 43.8 MB/s \n",
            "\u001b[?25hRequirement already satisfied: pandas>=0.25.0 in /usr/local/lib/python3.7/dist-packages (from geopandas) (1.3.5)\n",
            "Requirement already satisfied: click>=4.0 in /usr/local/lib/python3.7/dist-packages (from fiona>=1.8->geopandas) (7.1.2)\n",
            "Requirement already satisfied: setuptools in /usr/local/lib/python3.7/dist-packages (from fiona>=1.8->geopandas) (57.4.0)\n",
            "Requirement already satisfied: attrs>=17 in /usr/local/lib/python3.7/dist-packages (from fiona>=1.8->geopandas) (21.4.0)\n",
            "Collecting munch\n",
            "  Downloading munch-2.5.0-py2.py3-none-any.whl (10 kB)\n",
            "Requirement already satisfied: certifi in /usr/local/lib/python3.7/dist-packages (from fiona>=1.8->geopandas) (2021.10.8)\n",
            "Requirement already satisfied: six>=1.7 in /usr/local/lib/python3.7/dist-packages (from fiona>=1.8->geopandas) (1.15.0)\n",
            "Collecting click-plugins>=1.0\n",
            "  Downloading click_plugins-1.1.1-py2.py3-none-any.whl (7.5 kB)\n",
            "Collecting cligj>=0.5\n",
            "  Downloading cligj-0.7.2-py3-none-any.whl (7.1 kB)\n",
            "Requirement already satisfied: numpy>=1.17.3 in /usr/local/lib/python3.7/dist-packages (from pandas>=0.25.0->geopandas) (1.19.5)\n",
            "Requirement already satisfied: pytz>=2017.3 in /usr/local/lib/python3.7/dist-packages (from pandas>=0.25.0->geopandas) (2018.9)\n",
            "Requirement already satisfied: python-dateutil>=2.7.3 in /usr/local/lib/python3.7/dist-packages (from pandas>=0.25.0->geopandas) (2.8.2)\n",
            "Installing collected packages: munch, cligj, click-plugins, pyproj, fiona, geopandas\n",
            "Successfully installed click-plugins-1.1.1 cligj-0.7.2 fiona-1.8.20 geopandas-0.10.2 munch-2.5.0 pyproj-3.2.1\n"
          ]
        }
      ]
    },
    {
      "cell_type": "code",
      "source": [
        "import pandas as pd"
      ],
      "metadata": {
        "id": "3QcjMm-qXULt"
      },
      "execution_count": 3,
      "outputs": []
    },
    {
      "cell_type": "markdown",
      "source": [
        "# **Data gathering**\n",
        "\n",
        "Data have been gathered by Office for National Statistics and related academic work that has already been done."
      ],
      "metadata": {
        "id": "4BF2eY4m5dMl"
      }
    },
    {
      "cell_type": "code",
      "source": [
        "df = pd.read_excel('Local_authority.xlsx')"
      ],
      "metadata": {
        "id": "2AVQXROxXCQL"
      },
      "execution_count": 4,
      "outputs": []
    },
    {
      "cell_type": "code",
      "source": [
        "df = df.drop(['Return to Notes Page'], axis=1)"
      ],
      "metadata": {
        "id": "vwb7cNajXSf7"
      },
      "execution_count": 5,
      "outputs": []
    },
    {
      "cell_type": "code",
      "source": [
        "df.columns = ['PHE_Centre', 'LA_code' , 'LA_name', 'Count_of_outlets' ,'Rate_per_100,000_population']"
      ],
      "metadata": {
        "id": "Wsl-v8FWXXpj"
      },
      "execution_count": 6,
      "outputs": []
    },
    {
      "cell_type": "code",
      "source": [
        "df"
      ],
      "metadata": {
        "colab": {
          "base_uri": "https://localhost:8080/",
          "height": 424
        },
        "id": "4GgS30uwXY6k",
        "outputId": "5f9f0cea-df09-4999-a697-3907a83ae603"
      },
      "execution_count": 7,
      "outputs": [
        {
          "output_type": "execute_result",
          "data": {
            "text/html": [
              "\n",
              "  <div id=\"df-e8000a68-6651-4371-9e4b-00b84d6f0b0e\">\n",
              "    <div class=\"colab-df-container\">\n",
              "      <div>\n",
              "<style scoped>\n",
              "    .dataframe tbody tr th:only-of-type {\n",
              "        vertical-align: middle;\n",
              "    }\n",
              "\n",
              "    .dataframe tbody tr th {\n",
              "        vertical-align: top;\n",
              "    }\n",
              "\n",
              "    .dataframe thead th {\n",
              "        text-align: right;\n",
              "    }\n",
              "</style>\n",
              "<table border=\"1\" class=\"dataframe\">\n",
              "  <thead>\n",
              "    <tr style=\"text-align: right;\">\n",
              "      <th></th>\n",
              "      <th>PHE_Centre</th>\n",
              "      <th>LA_code</th>\n",
              "      <th>LA_name</th>\n",
              "      <th>Count_of_outlets</th>\n",
              "      <th>Rate_per_100,000_population</th>\n",
              "    </tr>\n",
              "  </thead>\n",
              "  <tbody>\n",
              "    <tr>\n",
              "      <th>0</th>\n",
              "      <td>NaN</td>\n",
              "      <td>NaN</td>\n",
              "      <td>NaN</td>\n",
              "      <td>NaN</td>\n",
              "      <td>NaN</td>\n",
              "    </tr>\n",
              "    <tr>\n",
              "      <th>1</th>\n",
              "      <td>NaN</td>\n",
              "      <td>NaN</td>\n",
              "      <td>NaN</td>\n",
              "      <td>NaN</td>\n",
              "      <td>NaN</td>\n",
              "    </tr>\n",
              "    <tr>\n",
              "      <th>2</th>\n",
              "      <td>PHE Centre</td>\n",
              "      <td>LA code</td>\n",
              "      <td>LA name</td>\n",
              "      <td>Count of outlets</td>\n",
              "      <td>Rate per 100,000 population</td>\n",
              "    </tr>\n",
              "    <tr>\n",
              "      <th>3</th>\n",
              "      <td>East Midlands</td>\n",
              "      <td>E07000032</td>\n",
              "      <td>Amber Valley</td>\n",
              "      <td>97</td>\n",
              "      <td>78.262413</td>\n",
              "    </tr>\n",
              "    <tr>\n",
              "      <th>4</th>\n",
              "      <td>East Midlands</td>\n",
              "      <td>E07000170</td>\n",
              "      <td>Ashfield</td>\n",
              "      <td>104</td>\n",
              "      <td>84.892415</td>\n",
              "    </tr>\n",
              "    <tr>\n",
              "      <th>...</th>\n",
              "      <td>...</td>\n",
              "      <td>...</td>\n",
              "      <td>...</td>\n",
              "      <td>...</td>\n",
              "      <td>...</td>\n",
              "    </tr>\n",
              "    <tr>\n",
              "      <th>325</th>\n",
              "      <td>Yorkshire and Humber</td>\n",
              "      <td>E08000019</td>\n",
              "      <td>Sheffield</td>\n",
              "      <td>660</td>\n",
              "      <td>117.073378</td>\n",
              "    </tr>\n",
              "    <tr>\n",
              "      <th>326</th>\n",
              "      <td>Yorkshire and Humber</td>\n",
              "      <td>E08000036</td>\n",
              "      <td>Wakefield</td>\n",
              "      <td>396</td>\n",
              "      <td>119.500632</td>\n",
              "    </tr>\n",
              "    <tr>\n",
              "      <th>327</th>\n",
              "      <td>Yorkshire and Humber</td>\n",
              "      <td>E06000014</td>\n",
              "      <td>York</td>\n",
              "      <td>202</td>\n",
              "      <td>98.806979</td>\n",
              "    </tr>\n",
              "    <tr>\n",
              "      <th>328</th>\n",
              "      <td>NaN</td>\n",
              "      <td>NaN</td>\n",
              "      <td>NaN</td>\n",
              "      <td>NaN</td>\n",
              "      <td>NaN</td>\n",
              "    </tr>\n",
              "    <tr>\n",
              "      <th>329</th>\n",
              "      <td>NaN</td>\n",
              "      <td>*City of London presented in the map uses the ...</td>\n",
              "      <td>NaN</td>\n",
              "      <td>NaN</td>\n",
              "      <td>NaN</td>\n",
              "    </tr>\n",
              "  </tbody>\n",
              "</table>\n",
              "<p>330 rows × 5 columns</p>\n",
              "</div>\n",
              "      <button class=\"colab-df-convert\" onclick=\"convertToInteractive('df-e8000a68-6651-4371-9e4b-00b84d6f0b0e')\"\n",
              "              title=\"Convert this dataframe to an interactive table.\"\n",
              "              style=\"display:none;\">\n",
              "        \n",
              "  <svg xmlns=\"http://www.w3.org/2000/svg\" height=\"24px\"viewBox=\"0 0 24 24\"\n",
              "       width=\"24px\">\n",
              "    <path d=\"M0 0h24v24H0V0z\" fill=\"none\"/>\n",
              "    <path d=\"M18.56 5.44l.94 2.06.94-2.06 2.06-.94-2.06-.94-.94-2.06-.94 2.06-2.06.94zm-11 1L8.5 8.5l.94-2.06 2.06-.94-2.06-.94L8.5 2.5l-.94 2.06-2.06.94zm10 10l.94 2.06.94-2.06 2.06-.94-2.06-.94-.94-2.06-.94 2.06-2.06.94z\"/><path d=\"M17.41 7.96l-1.37-1.37c-.4-.4-.92-.59-1.43-.59-.52 0-1.04.2-1.43.59L10.3 9.45l-7.72 7.72c-.78.78-.78 2.05 0 2.83L4 21.41c.39.39.9.59 1.41.59.51 0 1.02-.2 1.41-.59l7.78-7.78 2.81-2.81c.8-.78.8-2.07 0-2.86zM5.41 20L4 18.59l7.72-7.72 1.47 1.35L5.41 20z\"/>\n",
              "  </svg>\n",
              "      </button>\n",
              "      \n",
              "  <style>\n",
              "    .colab-df-container {\n",
              "      display:flex;\n",
              "      flex-wrap:wrap;\n",
              "      gap: 12px;\n",
              "    }\n",
              "\n",
              "    .colab-df-convert {\n",
              "      background-color: #E8F0FE;\n",
              "      border: none;\n",
              "      border-radius: 50%;\n",
              "      cursor: pointer;\n",
              "      display: none;\n",
              "      fill: #1967D2;\n",
              "      height: 32px;\n",
              "      padding: 0 0 0 0;\n",
              "      width: 32px;\n",
              "    }\n",
              "\n",
              "    .colab-df-convert:hover {\n",
              "      background-color: #E2EBFA;\n",
              "      box-shadow: 0px 1px 2px rgba(60, 64, 67, 0.3), 0px 1px 3px 1px rgba(60, 64, 67, 0.15);\n",
              "      fill: #174EA6;\n",
              "    }\n",
              "\n",
              "    [theme=dark] .colab-df-convert {\n",
              "      background-color: #3B4455;\n",
              "      fill: #D2E3FC;\n",
              "    }\n",
              "\n",
              "    [theme=dark] .colab-df-convert:hover {\n",
              "      background-color: #434B5C;\n",
              "      box-shadow: 0px 1px 3px 1px rgba(0, 0, 0, 0.15);\n",
              "      filter: drop-shadow(0px 1px 2px rgba(0, 0, 0, 0.3));\n",
              "      fill: #FFFFFF;\n",
              "    }\n",
              "  </style>\n",
              "\n",
              "      <script>\n",
              "        const buttonEl =\n",
              "          document.querySelector('#df-e8000a68-6651-4371-9e4b-00b84d6f0b0e button.colab-df-convert');\n",
              "        buttonEl.style.display =\n",
              "          google.colab.kernel.accessAllowed ? 'block' : 'none';\n",
              "\n",
              "        async function convertToInteractive(key) {\n",
              "          const element = document.querySelector('#df-e8000a68-6651-4371-9e4b-00b84d6f0b0e');\n",
              "          const dataTable =\n",
              "            await google.colab.kernel.invokeFunction('convertToInteractive',\n",
              "                                                     [key], {});\n",
              "          if (!dataTable) return;\n",
              "\n",
              "          const docLinkHtml = 'Like what you see? Visit the ' +\n",
              "            '<a target=\"_blank\" href=https://colab.research.google.com/notebooks/data_table.ipynb>data table notebook</a>'\n",
              "            + ' to learn more about interactive tables.';\n",
              "          element.innerHTML = '';\n",
              "          dataTable['output_type'] = 'display_data';\n",
              "          await google.colab.output.renderOutput(dataTable, element);\n",
              "          const docLink = document.createElement('div');\n",
              "          docLink.innerHTML = docLinkHtml;\n",
              "          element.appendChild(docLink);\n",
              "        }\n",
              "      </script>\n",
              "    </div>\n",
              "  </div>\n",
              "  "
            ],
            "text/plain": [
              "               PHE_Centre  ...  Rate_per_100,000_population\n",
              "0                     NaN  ...                          NaN\n",
              "1                     NaN  ...                          NaN\n",
              "2              PHE Centre  ...  Rate per 100,000 population\n",
              "3           East Midlands  ...                    78.262413\n",
              "4           East Midlands  ...                    84.892415\n",
              "..                    ...  ...                          ...\n",
              "325  Yorkshire and Humber  ...                   117.073378\n",
              "326  Yorkshire and Humber  ...                   119.500632\n",
              "327  Yorkshire and Humber  ...                    98.806979\n",
              "328                   NaN  ...                          NaN\n",
              "329                   NaN  ...                          NaN\n",
              "\n",
              "[330 rows x 5 columns]"
            ]
          },
          "metadata": {},
          "execution_count": 7
        }
      ]
    },
    {
      "cell_type": "code",
      "source": [
        "df= df.iloc[3:, :]"
      ],
      "metadata": {
        "id": "T0UmRDSBXauU"
      },
      "execution_count": 8,
      "outputs": []
    },
    {
      "cell_type": "code",
      "source": [
        "df= df.iloc[:-2]\n",
        "df"
      ],
      "metadata": {
        "id": "xcVKiN-hXcY8",
        "colab": {
          "base_uri": "https://localhost:8080/",
          "height": 424
        },
        "outputId": "0ac42ad5-5e52-4401-8ab9-1647cead5b32"
      },
      "execution_count": 9,
      "outputs": [
        {
          "output_type": "execute_result",
          "data": {
            "text/html": [
              "\n",
              "  <div id=\"df-fdea0b72-2237-412c-8550-cb3c3f70077d\">\n",
              "    <div class=\"colab-df-container\">\n",
              "      <div>\n",
              "<style scoped>\n",
              "    .dataframe tbody tr th:only-of-type {\n",
              "        vertical-align: middle;\n",
              "    }\n",
              "\n",
              "    .dataframe tbody tr th {\n",
              "        vertical-align: top;\n",
              "    }\n",
              "\n",
              "    .dataframe thead th {\n",
              "        text-align: right;\n",
              "    }\n",
              "</style>\n",
              "<table border=\"1\" class=\"dataframe\">\n",
              "  <thead>\n",
              "    <tr style=\"text-align: right;\">\n",
              "      <th></th>\n",
              "      <th>PHE_Centre</th>\n",
              "      <th>LA_code</th>\n",
              "      <th>LA_name</th>\n",
              "      <th>Count_of_outlets</th>\n",
              "      <th>Rate_per_100,000_population</th>\n",
              "    </tr>\n",
              "  </thead>\n",
              "  <tbody>\n",
              "    <tr>\n",
              "      <th>3</th>\n",
              "      <td>East Midlands</td>\n",
              "      <td>E07000032</td>\n",
              "      <td>Amber Valley</td>\n",
              "      <td>97</td>\n",
              "      <td>78.262413</td>\n",
              "    </tr>\n",
              "    <tr>\n",
              "      <th>4</th>\n",
              "      <td>East Midlands</td>\n",
              "      <td>E07000170</td>\n",
              "      <td>Ashfield</td>\n",
              "      <td>104</td>\n",
              "      <td>84.892415</td>\n",
              "    </tr>\n",
              "    <tr>\n",
              "      <th>5</th>\n",
              "      <td>East Midlands</td>\n",
              "      <td>E07000171</td>\n",
              "      <td>Bassetlaw</td>\n",
              "      <td>85</td>\n",
              "      <td>74.467992</td>\n",
              "    </tr>\n",
              "    <tr>\n",
              "      <th>6</th>\n",
              "      <td>East Midlands</td>\n",
              "      <td>E07000129</td>\n",
              "      <td>Blaby</td>\n",
              "      <td>49</td>\n",
              "      <td>51.121011</td>\n",
              "    </tr>\n",
              "    <tr>\n",
              "      <th>7</th>\n",
              "      <td>East Midlands</td>\n",
              "      <td>E07000033</td>\n",
              "      <td>Bolsover</td>\n",
              "      <td>67</td>\n",
              "      <td>86.838183</td>\n",
              "    </tr>\n",
              "    <tr>\n",
              "      <th>...</th>\n",
              "      <td>...</td>\n",
              "      <td>...</td>\n",
              "      <td>...</td>\n",
              "      <td>...</td>\n",
              "      <td>...</td>\n",
              "    </tr>\n",
              "    <tr>\n",
              "      <th>323</th>\n",
              "      <td>Yorkshire and Humber</td>\n",
              "      <td>E07000168</td>\n",
              "      <td>Scarborough</td>\n",
              "      <td>171</td>\n",
              "      <td>158.324538</td>\n",
              "    </tr>\n",
              "    <tr>\n",
              "      <th>324</th>\n",
              "      <td>Yorkshire and Humber</td>\n",
              "      <td>E07000169</td>\n",
              "      <td>Selby</td>\n",
              "      <td>48</td>\n",
              "      <td>56.235721</td>\n",
              "    </tr>\n",
              "    <tr>\n",
              "      <th>325</th>\n",
              "      <td>Yorkshire and Humber</td>\n",
              "      <td>E08000019</td>\n",
              "      <td>Sheffield</td>\n",
              "      <td>660</td>\n",
              "      <td>117.073378</td>\n",
              "    </tr>\n",
              "    <tr>\n",
              "      <th>326</th>\n",
              "      <td>Yorkshire and Humber</td>\n",
              "      <td>E08000036</td>\n",
              "      <td>Wakefield</td>\n",
              "      <td>396</td>\n",
              "      <td>119.500632</td>\n",
              "    </tr>\n",
              "    <tr>\n",
              "      <th>327</th>\n",
              "      <td>Yorkshire and Humber</td>\n",
              "      <td>E06000014</td>\n",
              "      <td>York</td>\n",
              "      <td>202</td>\n",
              "      <td>98.806979</td>\n",
              "    </tr>\n",
              "  </tbody>\n",
              "</table>\n",
              "<p>325 rows × 5 columns</p>\n",
              "</div>\n",
              "      <button class=\"colab-df-convert\" onclick=\"convertToInteractive('df-fdea0b72-2237-412c-8550-cb3c3f70077d')\"\n",
              "              title=\"Convert this dataframe to an interactive table.\"\n",
              "              style=\"display:none;\">\n",
              "        \n",
              "  <svg xmlns=\"http://www.w3.org/2000/svg\" height=\"24px\"viewBox=\"0 0 24 24\"\n",
              "       width=\"24px\">\n",
              "    <path d=\"M0 0h24v24H0V0z\" fill=\"none\"/>\n",
              "    <path d=\"M18.56 5.44l.94 2.06.94-2.06 2.06-.94-2.06-.94-.94-2.06-.94 2.06-2.06.94zm-11 1L8.5 8.5l.94-2.06 2.06-.94-2.06-.94L8.5 2.5l-.94 2.06-2.06.94zm10 10l.94 2.06.94-2.06 2.06-.94-2.06-.94-.94-2.06-.94 2.06-2.06.94z\"/><path d=\"M17.41 7.96l-1.37-1.37c-.4-.4-.92-.59-1.43-.59-.52 0-1.04.2-1.43.59L10.3 9.45l-7.72 7.72c-.78.78-.78 2.05 0 2.83L4 21.41c.39.39.9.59 1.41.59.51 0 1.02-.2 1.41-.59l7.78-7.78 2.81-2.81c.8-.78.8-2.07 0-2.86zM5.41 20L4 18.59l7.72-7.72 1.47 1.35L5.41 20z\"/>\n",
              "  </svg>\n",
              "      </button>\n",
              "      \n",
              "  <style>\n",
              "    .colab-df-container {\n",
              "      display:flex;\n",
              "      flex-wrap:wrap;\n",
              "      gap: 12px;\n",
              "    }\n",
              "\n",
              "    .colab-df-convert {\n",
              "      background-color: #E8F0FE;\n",
              "      border: none;\n",
              "      border-radius: 50%;\n",
              "      cursor: pointer;\n",
              "      display: none;\n",
              "      fill: #1967D2;\n",
              "      height: 32px;\n",
              "      padding: 0 0 0 0;\n",
              "      width: 32px;\n",
              "    }\n",
              "\n",
              "    .colab-df-convert:hover {\n",
              "      background-color: #E2EBFA;\n",
              "      box-shadow: 0px 1px 2px rgba(60, 64, 67, 0.3), 0px 1px 3px 1px rgba(60, 64, 67, 0.15);\n",
              "      fill: #174EA6;\n",
              "    }\n",
              "\n",
              "    [theme=dark] .colab-df-convert {\n",
              "      background-color: #3B4455;\n",
              "      fill: #D2E3FC;\n",
              "    }\n",
              "\n",
              "    [theme=dark] .colab-df-convert:hover {\n",
              "      background-color: #434B5C;\n",
              "      box-shadow: 0px 1px 3px 1px rgba(0, 0, 0, 0.15);\n",
              "      filter: drop-shadow(0px 1px 2px rgba(0, 0, 0, 0.3));\n",
              "      fill: #FFFFFF;\n",
              "    }\n",
              "  </style>\n",
              "\n",
              "      <script>\n",
              "        const buttonEl =\n",
              "          document.querySelector('#df-fdea0b72-2237-412c-8550-cb3c3f70077d button.colab-df-convert');\n",
              "        buttonEl.style.display =\n",
              "          google.colab.kernel.accessAllowed ? 'block' : 'none';\n",
              "\n",
              "        async function convertToInteractive(key) {\n",
              "          const element = document.querySelector('#df-fdea0b72-2237-412c-8550-cb3c3f70077d');\n",
              "          const dataTable =\n",
              "            await google.colab.kernel.invokeFunction('convertToInteractive',\n",
              "                                                     [key], {});\n",
              "          if (!dataTable) return;\n",
              "\n",
              "          const docLinkHtml = 'Like what you see? Visit the ' +\n",
              "            '<a target=\"_blank\" href=https://colab.research.google.com/notebooks/data_table.ipynb>data table notebook</a>'\n",
              "            + ' to learn more about interactive tables.';\n",
              "          element.innerHTML = '';\n",
              "          dataTable['output_type'] = 'display_data';\n",
              "          await google.colab.output.renderOutput(dataTable, element);\n",
              "          const docLink = document.createElement('div');\n",
              "          docLink.innerHTML = docLinkHtml;\n",
              "          element.appendChild(docLink);\n",
              "        }\n",
              "      </script>\n",
              "    </div>\n",
              "  </div>\n",
              "  "
            ],
            "text/plain": [
              "               PHE_Centre  ... Rate_per_100,000_population\n",
              "3           East Midlands  ...                   78.262413\n",
              "4           East Midlands  ...                   84.892415\n",
              "5           East Midlands  ...                   74.467992\n",
              "6           East Midlands  ...                   51.121011\n",
              "7           East Midlands  ...                   86.838183\n",
              "..                    ...  ...                         ...\n",
              "323  Yorkshire and Humber  ...                  158.324538\n",
              "324  Yorkshire and Humber  ...                   56.235721\n",
              "325  Yorkshire and Humber  ...                  117.073378\n",
              "326  Yorkshire and Humber  ...                  119.500632\n",
              "327  Yorkshire and Humber  ...                   98.806979\n",
              "\n",
              "[325 rows x 5 columns]"
            ]
          },
          "metadata": {},
          "execution_count": 9
        }
      ]
    },
    {
      "cell_type": "code",
      "source": [
        "df['LA_code'].isnull().sum()"
      ],
      "metadata": {
        "colab": {
          "base_uri": "https://localhost:8080/"
        },
        "id": "Ul-oRVq3Gtwv",
        "outputId": "e90cb659-8d31-40ec-8766-e9c9def16bc7"
      },
      "execution_count": 10,
      "outputs": [
        {
          "output_type": "execute_result",
          "data": {
            "text/plain": [
              "0"
            ]
          },
          "metadata": {},
          "execution_count": 10
        }
      ]
    },
    {
      "cell_type": "code",
      "source": [
        "df.isnull().values.any()"
      ],
      "metadata": {
        "colab": {
          "base_uri": "https://localhost:8080/"
        },
        "id": "cDjN9YSOG8i7",
        "outputId": "0aab548c-65a9-4702-ebd9-625bf68a7833"
      },
      "execution_count": 11,
      "outputs": [
        {
          "output_type": "execute_result",
          "data": {
            "text/plain": [
              "False"
            ]
          },
          "metadata": {},
          "execution_count": 11
        }
      ]
    },
    {
      "cell_type": "markdown",
      "source": [
        "Additionally Geopandas package was also installed since we want to present density of fast-food outlets in specific counties."
      ],
      "metadata": {
        "id": "3ChmmCqD6YN-"
      }
    },
    {
      "cell_type": "code",
      "source": [
        "import geopandas as gpd"
      ],
      "metadata": {
        "id": "N2wpojBzx26R"
      },
      "execution_count": 13,
      "outputs": []
    },
    {
      "cell_type": "markdown",
      "source": [
        "Counties geojson file was imported so counties will be presented afterwards."
      ],
      "metadata": {
        "id": "mPhD1Dld7GOk"
      }
    },
    {
      "cell_type": "code",
      "source": [
        "counties = gpd.read_file('Local_Authority_Districts_(December_2015)_Boundaries.geojson')"
      ],
      "metadata": {
        "id": "Wcdayedupfnu"
      },
      "execution_count": 14,
      "outputs": []
    },
    {
      "cell_type": "code",
      "source": [
        "counties.head()"
      ],
      "metadata": {
        "colab": {
          "base_uri": "https://localhost:8080/",
          "height": 206
        },
        "id": "GrYApNXbqoX5",
        "outputId": "c270608e-e92d-4f45-d42d-33d2a438721c"
      },
      "execution_count": 15,
      "outputs": [
        {
          "output_type": "execute_result",
          "data": {
            "text/html": [
              "\n",
              "  <div id=\"df-ddbf3701-cf82-46fa-95fb-d420a69d1c73\">\n",
              "    <div class=\"colab-df-container\">\n",
              "      <div>\n",
              "<style scoped>\n",
              "    .dataframe tbody tr th:only-of-type {\n",
              "        vertical-align: middle;\n",
              "    }\n",
              "\n",
              "    .dataframe tbody tr th {\n",
              "        vertical-align: top;\n",
              "    }\n",
              "\n",
              "    .dataframe thead th {\n",
              "        text-align: right;\n",
              "    }\n",
              "</style>\n",
              "<table border=\"1\" class=\"dataframe\">\n",
              "  <thead>\n",
              "    <tr style=\"text-align: right;\">\n",
              "      <th></th>\n",
              "      <th>objectid</th>\n",
              "      <th>lad15cd</th>\n",
              "      <th>lad15nm</th>\n",
              "      <th>lad15nmw</th>\n",
              "      <th>st_areashape</th>\n",
              "      <th>st_lengthshape</th>\n",
              "      <th>geometry</th>\n",
              "    </tr>\n",
              "  </thead>\n",
              "  <tbody>\n",
              "    <tr>\n",
              "      <th>0</th>\n",
              "      <td>1</td>\n",
              "      <td>E06000001</td>\n",
              "      <td>Hartlepool</td>\n",
              "      <td></td>\n",
              "      <td>9.357532e+07</td>\n",
              "      <td>71948.370595</td>\n",
              "      <td>MULTIPOLYGON (((-1.26846 54.72612, -1.26858 54...</td>\n",
              "    </tr>\n",
              "    <tr>\n",
              "      <th>1</th>\n",
              "      <td>2</td>\n",
              "      <td>E06000002</td>\n",
              "      <td>Middlesbrough</td>\n",
              "      <td></td>\n",
              "      <td>5.388858e+07</td>\n",
              "      <td>43840.978347</td>\n",
              "      <td>MULTIPOLYGON (((-1.24390 54.58936, -1.24426 54...</td>\n",
              "    </tr>\n",
              "    <tr>\n",
              "      <th>2</th>\n",
              "      <td>3</td>\n",
              "      <td>E06000003</td>\n",
              "      <td>Redcar and Cleveland</td>\n",
              "      <td></td>\n",
              "      <td>2.448157e+08</td>\n",
              "      <td>97702.559334</td>\n",
              "      <td>MULTIPOLYGON (((-1.13758 54.64581, -1.13743 54...</td>\n",
              "    </tr>\n",
              "    <tr>\n",
              "      <th>3</th>\n",
              "      <td>4</td>\n",
              "      <td>E06000004</td>\n",
              "      <td>Stockton-on-Tees</td>\n",
              "      <td></td>\n",
              "      <td>2.049602e+08</td>\n",
              "      <td>119661.530407</td>\n",
              "      <td>MULTIPOLYGON (((-1.31729 54.64480, -1.31756 54...</td>\n",
              "    </tr>\n",
              "    <tr>\n",
              "      <th>4</th>\n",
              "      <td>5</td>\n",
              "      <td>E06000005</td>\n",
              "      <td>Darlington</td>\n",
              "      <td></td>\n",
              "      <td>1.974757e+08</td>\n",
              "      <td>107206.323036</td>\n",
              "      <td>POLYGON ((-1.63768 54.61714, -1.63800 54.61720...</td>\n",
              "    </tr>\n",
              "  </tbody>\n",
              "</table>\n",
              "</div>\n",
              "      <button class=\"colab-df-convert\" onclick=\"convertToInteractive('df-ddbf3701-cf82-46fa-95fb-d420a69d1c73')\"\n",
              "              title=\"Convert this dataframe to an interactive table.\"\n",
              "              style=\"display:none;\">\n",
              "        \n",
              "  <svg xmlns=\"http://www.w3.org/2000/svg\" height=\"24px\"viewBox=\"0 0 24 24\"\n",
              "       width=\"24px\">\n",
              "    <path d=\"M0 0h24v24H0V0z\" fill=\"none\"/>\n",
              "    <path d=\"M18.56 5.44l.94 2.06.94-2.06 2.06-.94-2.06-.94-.94-2.06-.94 2.06-2.06.94zm-11 1L8.5 8.5l.94-2.06 2.06-.94-2.06-.94L8.5 2.5l-.94 2.06-2.06.94zm10 10l.94 2.06.94-2.06 2.06-.94-2.06-.94-.94-2.06-.94 2.06-2.06.94z\"/><path d=\"M17.41 7.96l-1.37-1.37c-.4-.4-.92-.59-1.43-.59-.52 0-1.04.2-1.43.59L10.3 9.45l-7.72 7.72c-.78.78-.78 2.05 0 2.83L4 21.41c.39.39.9.59 1.41.59.51 0 1.02-.2 1.41-.59l7.78-7.78 2.81-2.81c.8-.78.8-2.07 0-2.86zM5.41 20L4 18.59l7.72-7.72 1.47 1.35L5.41 20z\"/>\n",
              "  </svg>\n",
              "      </button>\n",
              "      \n",
              "  <style>\n",
              "    .colab-df-container {\n",
              "      display:flex;\n",
              "      flex-wrap:wrap;\n",
              "      gap: 12px;\n",
              "    }\n",
              "\n",
              "    .colab-df-convert {\n",
              "      background-color: #E8F0FE;\n",
              "      border: none;\n",
              "      border-radius: 50%;\n",
              "      cursor: pointer;\n",
              "      display: none;\n",
              "      fill: #1967D2;\n",
              "      height: 32px;\n",
              "      padding: 0 0 0 0;\n",
              "      width: 32px;\n",
              "    }\n",
              "\n",
              "    .colab-df-convert:hover {\n",
              "      background-color: #E2EBFA;\n",
              "      box-shadow: 0px 1px 2px rgba(60, 64, 67, 0.3), 0px 1px 3px 1px rgba(60, 64, 67, 0.15);\n",
              "      fill: #174EA6;\n",
              "    }\n",
              "\n",
              "    [theme=dark] .colab-df-convert {\n",
              "      background-color: #3B4455;\n",
              "      fill: #D2E3FC;\n",
              "    }\n",
              "\n",
              "    [theme=dark] .colab-df-convert:hover {\n",
              "      background-color: #434B5C;\n",
              "      box-shadow: 0px 1px 3px 1px rgba(0, 0, 0, 0.15);\n",
              "      filter: drop-shadow(0px 1px 2px rgba(0, 0, 0, 0.3));\n",
              "      fill: #FFFFFF;\n",
              "    }\n",
              "  </style>\n",
              "\n",
              "      <script>\n",
              "        const buttonEl =\n",
              "          document.querySelector('#df-ddbf3701-cf82-46fa-95fb-d420a69d1c73 button.colab-df-convert');\n",
              "        buttonEl.style.display =\n",
              "          google.colab.kernel.accessAllowed ? 'block' : 'none';\n",
              "\n",
              "        async function convertToInteractive(key) {\n",
              "          const element = document.querySelector('#df-ddbf3701-cf82-46fa-95fb-d420a69d1c73');\n",
              "          const dataTable =\n",
              "            await google.colab.kernel.invokeFunction('convertToInteractive',\n",
              "                                                     [key], {});\n",
              "          if (!dataTable) return;\n",
              "\n",
              "          const docLinkHtml = 'Like what you see? Visit the ' +\n",
              "            '<a target=\"_blank\" href=https://colab.research.google.com/notebooks/data_table.ipynb>data table notebook</a>'\n",
              "            + ' to learn more about interactive tables.';\n",
              "          element.innerHTML = '';\n",
              "          dataTable['output_type'] = 'display_data';\n",
              "          await google.colab.output.renderOutput(dataTable, element);\n",
              "          const docLink = document.createElement('div');\n",
              "          docLink.innerHTML = docLinkHtml;\n",
              "          element.appendChild(docLink);\n",
              "        }\n",
              "      </script>\n",
              "    </div>\n",
              "  </div>\n",
              "  "
            ],
            "text/plain": [
              "   objectid  ...                                           geometry\n",
              "0         1  ...  MULTIPOLYGON (((-1.26846 54.72612, -1.26858 54...\n",
              "1         2  ...  MULTIPOLYGON (((-1.24390 54.58936, -1.24426 54...\n",
              "2         3  ...  MULTIPOLYGON (((-1.13758 54.64581, -1.13743 54...\n",
              "3         4  ...  MULTIPOLYGON (((-1.31729 54.64480, -1.31756 54...\n",
              "4         5  ...  POLYGON ((-1.63768 54.61714, -1.63800 54.61720...\n",
              "\n",
              "[5 rows x 7 columns]"
            ]
          },
          "metadata": {},
          "execution_count": 15
        }
      ]
    },
    {
      "cell_type": "code",
      "source": [
        "counties.plot(figsize=(10,6))"
      ],
      "metadata": {
        "colab": {
          "base_uri": "https://localhost:8080/",
          "height": 391
        },
        "id": "Z4gxiDDRrFqX",
        "outputId": "432229bf-8e80-4f2e-a905-cfd96d738b9d"
      },
      "execution_count": 16,
      "outputs": [
        {
          "output_type": "execute_result",
          "data": {
            "text/plain": [
              "<matplotlib.axes._subplots.AxesSubplot at 0x7f5d993d1cd0>"
            ]
          },
          "metadata": {},
          "execution_count": 16
        },
        {
          "output_type": "display_data",
          "data": {
            "image/png": "[encoded data removed]",
            "text/plain": [
              "<Figure size 720x432 with 1 Axes>"
            ]
          },
          "metadata": {
            "needs_background": "light"
          }
        }
      ]
    },
    {
      "cell_type": "code",
      "source": [
        "counties.shape"
      ],
      "metadata": {
        "colab": {
          "base_uri": "https://localhost:8080/"
        },
        "id": "EZPCEsYAIGrI",
        "outputId": "c20e4ca1-b1e7-4e6c-9c98-41edfba56b0e"
      },
      "execution_count": 17,
      "outputs": [
        {
          "output_type": "execute_result",
          "data": {
            "text/plain": [
              "(380, 7)"
            ]
          },
          "metadata": {},
          "execution_count": 17
        }
      ]
    },
    {
      "cell_type": "code",
      "source": [
        "df.shape"
      ],
      "metadata": {
        "colab": {
          "base_uri": "https://localhost:8080/"
        },
        "id": "eOHQw0eHIalx",
        "outputId": "00ee8902-d5c1-4ce9-ddbb-b43dc04c5789"
      },
      "execution_count": 18,
      "outputs": [
        {
          "output_type": "execute_result",
          "data": {
            "text/plain": [
              "(325, 5)"
            ]
          },
          "metadata": {},
          "execution_count": 18
        }
      ]
    },
    {
      "cell_type": "markdown",
      "source": [
        "Up to the data that has been imported, two dataframes were merged into one according to 'primary/foreign keys' from specified columns."
      ],
      "metadata": {
        "id": "cUSzbyUg7Wjj"
      }
    },
    {
      "cell_type": "code",
      "source": [
        "england = pd.merge(df, counties, how=\"left\", left_on= ['LA_code'], right_on=['lad15cd'])"
      ],
      "metadata": {
        "id": "AaQPZDbxHHKh"
      },
      "execution_count": 19,
      "outputs": []
    },
    {
      "cell_type": "code",
      "source": [
        "england = gpd.GeoDataFrame(england)"
      ],
      "metadata": {
        "id": "f631lvZAHqJN"
      },
      "execution_count": 20,
      "outputs": []
    },
    {
      "cell_type": "code",
      "source": [
        "england"
      ],
      "metadata": {
        "colab": {
          "base_uri": "https://localhost:8080/",
          "height": 641
        },
        "id": "-sL1L3QcJD3t",
        "outputId": "235d4dbb-d7f1-4e84-d89b-17cc80bebc8b"
      },
      "execution_count": 21,
      "outputs": [
        {
          "output_type": "execute_result",
          "data": {
            "text/html": [
              "\n",
              "  <div id=\"df-1b800ccc-ab35-4ec6-b8d4-4a278f946bb3\">\n",
              "    <div class=\"colab-df-container\">\n",
              "      <div>\n",
              "<style scoped>\n",
              "    .dataframe tbody tr th:only-of-type {\n",
              "        vertical-align: middle;\n",
              "    }\n",
              "\n",
              "    .dataframe tbody tr th {\n",
              "        vertical-align: top;\n",
              "    }\n",
              "\n",
              "    .dataframe thead th {\n",
              "        text-align: right;\n",
              "    }\n",
              "</style>\n",
              "<table border=\"1\" class=\"dataframe\">\n",
              "  <thead>\n",
              "    <tr style=\"text-align: right;\">\n",
              "      <th></th>\n",
              "      <th>PHE_Centre</th>\n",
              "      <th>LA_code</th>\n",
              "      <th>LA_name</th>\n",
              "      <th>Count_of_outlets</th>\n",
              "      <th>Rate_per_100,000_population</th>\n",
              "      <th>objectid</th>\n",
              "      <th>lad15cd</th>\n",
              "      <th>lad15nm</th>\n",
              "      <th>lad15nmw</th>\n",
              "      <th>st_areashape</th>\n",
              "      <th>st_lengthshape</th>\n",
              "      <th>geometry</th>\n",
              "    </tr>\n",
              "  </thead>\n",
              "  <tbody>\n",
              "    <tr>\n",
              "      <th>0</th>\n",
              "      <td>East Midlands</td>\n",
              "      <td>E07000032</td>\n",
              "      <td>Amber Valley</td>\n",
              "      <td>97</td>\n",
              "      <td>78.262413</td>\n",
              "      <td>72.0</td>\n",
              "      <td>E07000032</td>\n",
              "      <td>Amber Valley</td>\n",
              "      <td></td>\n",
              "      <td>2.654379e+08</td>\n",
              "      <td>109036.228207</td>\n",
              "      <td>POLYGON ((-1.49439 53.13244, -1.49537 53.13396...</td>\n",
              "    </tr>\n",
              "    <tr>\n",
              "      <th>1</th>\n",
              "      <td>East Midlands</td>\n",
              "      <td>E07000170</td>\n",
              "      <td>Ashfield</td>\n",
              "      <td>104</td>\n",
              "      <td>84.892415</td>\n",
              "      <td>193.0</td>\n",
              "      <td>E07000170</td>\n",
              "      <td>Ashfield</td>\n",
              "      <td></td>\n",
              "      <td>1.095579e+08</td>\n",
              "      <td>69174.669912</td>\n",
              "      <td>POLYGON ((-1.28874 53.17140, -1.28876 53.17146...</td>\n",
              "    </tr>\n",
              "    <tr>\n",
              "      <th>2</th>\n",
              "      <td>East Midlands</td>\n",
              "      <td>E07000171</td>\n",
              "      <td>Bassetlaw</td>\n",
              "      <td>85</td>\n",
              "      <td>74.467992</td>\n",
              "      <td>194.0</td>\n",
              "      <td>E07000171</td>\n",
              "      <td>Bassetlaw</td>\n",
              "      <td></td>\n",
              "      <td>6.378039e+08</td>\n",
              "      <td>159735.840448</td>\n",
              "      <td>MULTIPOLYGON (((-0.92514 53.49440, -0.92678 53...</td>\n",
              "    </tr>\n",
              "    <tr>\n",
              "      <th>3</th>\n",
              "      <td>East Midlands</td>\n",
              "      <td>E07000129</td>\n",
              "      <td>Blaby</td>\n",
              "      <td>49</td>\n",
              "      <td>51.121011</td>\n",
              "      <td>158.0</td>\n",
              "      <td>E07000129</td>\n",
              "      <td>Blaby</td>\n",
              "      <td></td>\n",
              "      <td>1.304687e+08</td>\n",
              "      <td>100819.772495</td>\n",
              "      <td>POLYGON ((-1.19952 52.66435, -1.19968 52.66440...</td>\n",
              "    </tr>\n",
              "    <tr>\n",
              "      <th>4</th>\n",
              "      <td>East Midlands</td>\n",
              "      <td>E07000033</td>\n",
              "      <td>Bolsover</td>\n",
              "      <td>67</td>\n",
              "      <td>86.838183</td>\n",
              "      <td>73.0</td>\n",
              "      <td>E07000033</td>\n",
              "      <td>Bolsover</td>\n",
              "      <td></td>\n",
              "      <td>1.603346e+08</td>\n",
              "      <td>96238.990838</td>\n",
              "      <td>POLYGON ((-1.30381 53.31289, -1.30464 53.31295...</td>\n",
              "    </tr>\n",
              "    <tr>\n",
              "      <th>...</th>\n",
              "      <td>...</td>\n",
              "      <td>...</td>\n",
              "      <td>...</td>\n",
              "      <td>...</td>\n",
              "      <td>...</td>\n",
              "      <td>...</td>\n",
              "      <td>...</td>\n",
              "      <td>...</td>\n",
              "      <td>...</td>\n",
              "      <td>...</td>\n",
              "      <td>...</td>\n",
              "      <td>...</td>\n",
              "    </tr>\n",
              "    <tr>\n",
              "      <th>320</th>\n",
              "      <td>Yorkshire and Humber</td>\n",
              "      <td>E07000168</td>\n",
              "      <td>Scarborough</td>\n",
              "      <td>171</td>\n",
              "      <td>158.324538</td>\n",
              "      <td>191.0</td>\n",
              "      <td>E07000168</td>\n",
              "      <td>Scarborough</td>\n",
              "      <td></td>\n",
              "      <td>8.165408e+08</td>\n",
              "      <td>243106.094928</td>\n",
              "      <td>MULTIPOLYGON (((-0.79073 54.55897, -0.79084 54...</td>\n",
              "    </tr>\n",
              "    <tr>\n",
              "      <th>321</th>\n",
              "      <td>Yorkshire and Humber</td>\n",
              "      <td>E07000169</td>\n",
              "      <td>Selby</td>\n",
              "      <td>48</td>\n",
              "      <td>56.235721</td>\n",
              "      <td>192.0</td>\n",
              "      <td>E07000169</td>\n",
              "      <td>Selby</td>\n",
              "      <td></td>\n",
              "      <td>5.993108e+08</td>\n",
              "      <td>264868.959913</td>\n",
              "      <td>MULTIPOLYGON (((-1.25142 53.93546, -1.25150 53...</td>\n",
              "    </tr>\n",
              "    <tr>\n",
              "      <th>322</th>\n",
              "      <td>Yorkshire and Humber</td>\n",
              "      <td>E08000019</td>\n",
              "      <td>Sheffield</td>\n",
              "      <td>660</td>\n",
              "      <td>117.073378</td>\n",
              "      <td>276.0</td>\n",
              "      <td>E08000019</td>\n",
              "      <td>Sheffield</td>\n",
              "      <td></td>\n",
              "      <td>3.679300e+08</td>\n",
              "      <td>132837.042147</td>\n",
              "      <td>POLYGON ((-1.69946 53.50280, -1.69952 53.50280...</td>\n",
              "    </tr>\n",
              "    <tr>\n",
              "      <th>323</th>\n",
              "      <td>Yorkshire and Humber</td>\n",
              "      <td>E08000036</td>\n",
              "      <td>Wakefield</td>\n",
              "      <td>396</td>\n",
              "      <td>119.500632</td>\n",
              "      <td>292.0</td>\n",
              "      <td>E08000036</td>\n",
              "      <td>Wakefield</td>\n",
              "      <td></td>\n",
              "      <td>3.386197e+08</td>\n",
              "      <td>109447.457379</td>\n",
              "      <td>POLYGON ((-1.29593 53.73949, -1.29610 53.73951...</td>\n",
              "    </tr>\n",
              "    <tr>\n",
              "      <th>324</th>\n",
              "      <td>Yorkshire and Humber</td>\n",
              "      <td>E06000014</td>\n",
              "      <td>York</td>\n",
              "      <td>202</td>\n",
              "      <td>98.806979</td>\n",
              "      <td>14.0</td>\n",
              "      <td>E06000014</td>\n",
              "      <td>York</td>\n",
              "      <td></td>\n",
              "      <td>2.719370e+08</td>\n",
              "      <td>101957.499149</td>\n",
              "      <td>POLYGON ((-1.02065 54.05099, -1.02085 54.05105...</td>\n",
              "    </tr>\n",
              "  </tbody>\n",
              "</table>\n",
              "<p>325 rows × 12 columns</p>\n",
              "</div>\n",
              "      <button class=\"colab-df-convert\" onclick=\"convertToInteractive('df-1b800ccc-ab35-4ec6-b8d4-4a278f946bb3')\"\n",
              "              title=\"Convert this dataframe to an interactive table.\"\n",
              "              style=\"display:none;\">\n",
              "        \n",
              "  <svg xmlns=\"http://www.w3.org/2000/svg\" height=\"24px\"viewBox=\"0 0 24 24\"\n",
              "       width=\"24px\">\n",
              "    <path d=\"M0 0h24v24H0V0z\" fill=\"none\"/>\n",
              "    <path d=\"M18.56 5.44l.94 2.06.94-2.06 2.06-.94-2.06-.94-.94-2.06-.94 2.06-2.06.94zm-11 1L8.5 8.5l.94-2.06 2.06-.94-2.06-.94L8.5 2.5l-.94 2.06-2.06.94zm10 10l.94 2.06.94-2.06 2.06-.94-2.06-.94-.94-2.06-.94 2.06-2.06.94z\"/><path d=\"M17.41 7.96l-1.37-1.37c-.4-.4-.92-.59-1.43-.59-.52 0-1.04.2-1.43.59L10.3 9.45l-7.72 7.72c-.78.78-.78 2.05 0 2.83L4 21.41c.39.39.9.59 1.41.59.51 0 1.02-.2 1.41-.59l7.78-7.78 2.81-2.81c.8-.78.8-2.07 0-2.86zM5.41 20L4 18.59l7.72-7.72 1.47 1.35L5.41 20z\"/>\n",
              "  </svg>\n",
              "      </button>\n",
              "      \n",
              "  <style>\n",
              "    .colab-df-container {\n",
              "      display:flex;\n",
              "      flex-wrap:wrap;\n",
              "      gap: 12px;\n",
              "    }\n",
              "\n",
              "    .colab-df-convert {\n",
              "      background-color: #E8F0FE;\n",
              "      border: none;\n",
              "      border-radius: 50%;\n",
              "      cursor: pointer;\n",
              "      display: none;\n",
              "      fill: #1967D2;\n",
              "      height: 32px;\n",
              "      padding: 0 0 0 0;\n",
              "      width: 32px;\n",
              "    }\n",
              "\n",
              "    .colab-df-convert:hover {\n",
              "      background-color: #E2EBFA;\n",
              "      box-shadow: 0px 1px 2px rgba(60, 64, 67, 0.3), 0px 1px 3px 1px rgba(60, 64, 67, 0.15);\n",
              "      fill: #174EA6;\n",
              "    }\n",
              "\n",
              "    [theme=dark] .colab-df-convert {\n",
              "      background-color: #3B4455;\n",
              "      fill: #D2E3FC;\n",
              "    }\n",
              "\n",
              "    [theme=dark] .colab-df-convert:hover {\n",
              "      background-color: #434B5C;\n",
              "      box-shadow: 0px 1px 3px 1px rgba(0, 0, 0, 0.15);\n",
              "      filter: drop-shadow(0px 1px 2px rgba(0, 0, 0, 0.3));\n",
              "      fill: #FFFFFF;\n",
              "    }\n",
              "  </style>\n",
              "\n",
              "      <script>\n",
              "        const buttonEl =\n",
              "          document.querySelector('#df-1b800ccc-ab35-4ec6-b8d4-4a278f946bb3 button.colab-df-convert');\n",
              "        buttonEl.style.display =\n",
              "          google.colab.kernel.accessAllowed ? 'block' : 'none';\n",
              "\n",
              "        async function convertToInteractive(key) {\n",
              "          const element = document.querySelector('#df-1b800ccc-ab35-4ec6-b8d4-4a278f946bb3');\n",
              "          const dataTable =\n",
              "            await google.colab.kernel.invokeFunction('convertToInteractive',\n",
              "                                                     [key], {});\n",
              "          if (!dataTable) return;\n",
              "\n",
              "          const docLinkHtml = 'Like what you see? Visit the ' +\n",
              "            '<a target=\"_blank\" href=https://colab.research.google.com/notebooks/data_table.ipynb>data table notebook</a>'\n",
              "            + ' to learn more about interactive tables.';\n",
              "          element.innerHTML = '';\n",
              "          dataTable['output_type'] = 'display_data';\n",
              "          await google.colab.output.renderOutput(dataTable, element);\n",
              "          const docLink = document.createElement('div');\n",
              "          docLink.innerHTML = docLinkHtml;\n",
              "          element.appendChild(docLink);\n",
              "        }\n",
              "      </script>\n",
              "    </div>\n",
              "  </div>\n",
              "  "
            ],
            "text/plain": [
              "               PHE_Centre  ...                                           geometry\n",
              "0           East Midlands  ...  POLYGON ((-1.49439 53.13244, -1.49537 53.13396...\n",
              "1           East Midlands  ...  POLYGON ((-1.28874 53.17140, -1.28876 53.17146...\n",
              "2           East Midlands  ...  MULTIPOLYGON (((-0.92514 53.49440, -0.92678 53...\n",
              "3           East Midlands  ...  POLYGON ((-1.19952 52.66435, -1.19968 52.66440...\n",
              "4           East Midlands  ...  POLYGON ((-1.30381 53.31289, -1.30464 53.31295...\n",
              "..                    ...  ...                                                ...\n",
              "320  Yorkshire and Humber  ...  MULTIPOLYGON (((-0.79073 54.55897, -0.79084 54...\n",
              "321  Yorkshire and Humber  ...  MULTIPOLYGON (((-1.25142 53.93546, -1.25150 53...\n",
              "322  Yorkshire and Humber  ...  POLYGON ((-1.69946 53.50280, -1.69952 53.50280...\n",
              "323  Yorkshire and Humber  ...  POLYGON ((-1.29593 53.73949, -1.29610 53.73951...\n",
              "324  Yorkshire and Humber  ...  POLYGON ((-1.02065 54.05099, -1.02085 54.05105...\n",
              "\n",
              "[325 rows x 12 columns]"
            ]
          },
          "metadata": {},
          "execution_count": 21
        }
      ]
    },
    {
      "cell_type": "code",
      "source": [
        "england.plot(figsize=(10,6))"
      ],
      "metadata": {
        "colab": {
          "base_uri": "https://localhost:8080/",
          "height": 391
        },
        "id": "yK9hI7Wl0zFB",
        "outputId": "82d622e0-005a-48fb-8e53-f9b1fbda6b65"
      },
      "execution_count": 23,
      "outputs": [
        {
          "output_type": "execute_result",
          "data": {
            "text/plain": [
              "<matplotlib.axes._subplots.AxesSubplot at 0x7f5d996a4890>"
            ]
          },
          "metadata": {},
          "execution_count": 23
        },
        {
          "output_type": "display_data",
          "data": {
            "image/png": "[encoded data removed]",
            "text/plain": [
              "<Figure size 720x432 with 1 Axes>"
            ]
          },
          "metadata": {
            "needs_background": "light"
          }
        }
      ]
    },
    {
      "cell_type": "code",
      "source": [
        "england"
      ],
      "metadata": {
        "colab": {
          "base_uri": "https://localhost:8080/",
          "height": 641
        },
        "id": "CofgPwvw04db",
        "outputId": "59644ec4-b54b-44b0-e908-cd820dd61602"
      },
      "execution_count": 24,
      "outputs": [
        {
          "output_type": "execute_result",
          "data": {
            "text/html": [
              "\n",
              "  <div id=\"df-d4fe4309-843b-4376-9af5-f67c2c4452df\">\n",
              "    <div class=\"colab-df-container\">\n",
              "      <div>\n",
              "<style scoped>\n",
              "    .dataframe tbody tr th:only-of-type {\n",
              "        vertical-align: middle;\n",
              "    }\n",
              "\n",
              "    .dataframe tbody tr th {\n",
              "        vertical-align: top;\n",
              "    }\n",
              "\n",
              "    .dataframe thead th {\n",
              "        text-align: right;\n",
              "    }\n",
              "</style>\n",
              "<table border=\"1\" class=\"dataframe\">\n",
              "  <thead>\n",
              "    <tr style=\"text-align: right;\">\n",
              "      <th></th>\n",
              "      <th>PHE_Centre</th>\n",
              "      <th>LA_code</th>\n",
              "      <th>LA_name</th>\n",
              "      <th>Count_of_outlets</th>\n",
              "      <th>Rate_per_100,000_population</th>\n",
              "      <th>objectid</th>\n",
              "      <th>lad15cd</th>\n",
              "      <th>lad15nm</th>\n",
              "      <th>lad15nmw</th>\n",
              "      <th>st_areashape</th>\n",
              "      <th>st_lengthshape</th>\n",
              "      <th>geometry</th>\n",
              "    </tr>\n",
              "  </thead>\n",
              "  <tbody>\n",
              "    <tr>\n",
              "      <th>0</th>\n",
              "      <td>East Midlands</td>\n",
              "      <td>E07000032</td>\n",
              "      <td>Amber Valley</td>\n",
              "      <td>97</td>\n",
              "      <td>78.262413</td>\n",
              "      <td>72.0</td>\n",
              "      <td>E07000032</td>\n",
              "      <td>Amber Valley</td>\n",
              "      <td></td>\n",
              "      <td>2.654379e+08</td>\n",
              "      <td>109036.228207</td>\n",
              "      <td>POLYGON ((-1.49439 53.13244, -1.49537 53.13396...</td>\n",
              "    </tr>\n",
              "    <tr>\n",
              "      <th>1</th>\n",
              "      <td>East Midlands</td>\n",
              "      <td>E07000170</td>\n",
              "      <td>Ashfield</td>\n",
              "      <td>104</td>\n",
              "      <td>84.892415</td>\n",
              "      <td>193.0</td>\n",
              "      <td>E07000170</td>\n",
              "      <td>Ashfield</td>\n",
              "      <td></td>\n",
              "      <td>1.095579e+08</td>\n",
              "      <td>69174.669912</td>\n",
              "      <td>POLYGON ((-1.28874 53.17140, -1.28876 53.17146...</td>\n",
              "    </tr>\n",
              "    <tr>\n",
              "      <th>2</th>\n",
              "      <td>East Midlands</td>\n",
              "      <td>E07000171</td>\n",
              "      <td>Bassetlaw</td>\n",
              "      <td>85</td>\n",
              "      <td>74.467992</td>\n",
              "      <td>194.0</td>\n",
              "      <td>E07000171</td>\n",
              "      <td>Bassetlaw</td>\n",
              "      <td></td>\n",
              "      <td>6.378039e+08</td>\n",
              "      <td>159735.840448</td>\n",
              "      <td>MULTIPOLYGON (((-0.92514 53.49440, -0.92678 53...</td>\n",
              "    </tr>\n",
              "    <tr>\n",
              "      <th>3</th>\n",
              "      <td>East Midlands</td>\n",
              "      <td>E07000129</td>\n",
              "      <td>Blaby</td>\n",
              "      <td>49</td>\n",
              "      <td>51.121011</td>\n",
              "      <td>158.0</td>\n",
              "      <td>E07000129</td>\n",
              "      <td>Blaby</td>\n",
              "      <td></td>\n",
              "      <td>1.304687e+08</td>\n",
              "      <td>100819.772495</td>\n",
              "      <td>POLYGON ((-1.19952 52.66435, -1.19968 52.66440...</td>\n",
              "    </tr>\n",
              "    <tr>\n",
              "      <th>4</th>\n",
              "      <td>East Midlands</td>\n",
              "      <td>E07000033</td>\n",
              "      <td>Bolsover</td>\n",
              "      <td>67</td>\n",
              "      <td>86.838183</td>\n",
              "      <td>73.0</td>\n",
              "      <td>E07000033</td>\n",
              "      <td>Bolsover</td>\n",
              "      <td></td>\n",
              "      <td>1.603346e+08</td>\n",
              "      <td>96238.990838</td>\n",
              "      <td>POLYGON ((-1.30381 53.31289, -1.30464 53.31295...</td>\n",
              "    </tr>\n",
              "    <tr>\n",
              "      <th>...</th>\n",
              "      <td>...</td>\n",
              "      <td>...</td>\n",
              "      <td>...</td>\n",
              "      <td>...</td>\n",
              "      <td>...</td>\n",
              "      <td>...</td>\n",
              "      <td>...</td>\n",
              "      <td>...</td>\n",
              "      <td>...</td>\n",
              "      <td>...</td>\n",
              "      <td>...</td>\n",
              "      <td>...</td>\n",
              "    </tr>\n",
              "    <tr>\n",
              "      <th>320</th>\n",
              "      <td>Yorkshire and Humber</td>\n",
              "      <td>E07000168</td>\n",
              "      <td>Scarborough</td>\n",
              "      <td>171</td>\n",
              "      <td>158.324538</td>\n",
              "      <td>191.0</td>\n",
              "      <td>E07000168</td>\n",
              "      <td>Scarborough</td>\n",
              "      <td></td>\n",
              "      <td>8.165408e+08</td>\n",
              "      <td>243106.094928</td>\n",
              "      <td>MULTIPOLYGON (((-0.79073 54.55897, -0.79084 54...</td>\n",
              "    </tr>\n",
              "    <tr>\n",
              "      <th>321</th>\n",
              "      <td>Yorkshire and Humber</td>\n",
              "      <td>E07000169</td>\n",
              "      <td>Selby</td>\n",
              "      <td>48</td>\n",
              "      <td>56.235721</td>\n",
              "      <td>192.0</td>\n",
              "      <td>E07000169</td>\n",
              "      <td>Selby</td>\n",
              "      <td></td>\n",
              "      <td>5.993108e+08</td>\n",
              "      <td>264868.959913</td>\n",
              "      <td>MULTIPOLYGON (((-1.25142 53.93546, -1.25150 53...</td>\n",
              "    </tr>\n",
              "    <tr>\n",
              "      <th>322</th>\n",
              "      <td>Yorkshire and Humber</td>\n",
              "      <td>E08000019</td>\n",
              "      <td>Sheffield</td>\n",
              "      <td>660</td>\n",
              "      <td>117.073378</td>\n",
              "      <td>276.0</td>\n",
              "      <td>E08000019</td>\n",
              "      <td>Sheffield</td>\n",
              "      <td></td>\n",
              "      <td>3.679300e+08</td>\n",
              "      <td>132837.042147</td>\n",
              "      <td>POLYGON ((-1.69946 53.50280, -1.69952 53.50280...</td>\n",
              "    </tr>\n",
              "    <tr>\n",
              "      <th>323</th>\n",
              "      <td>Yorkshire and Humber</td>\n",
              "      <td>E08000036</td>\n",
              "      <td>Wakefield</td>\n",
              "      <td>396</td>\n",
              "      <td>119.500632</td>\n",
              "      <td>292.0</td>\n",
              "      <td>E08000036</td>\n",
              "      <td>Wakefield</td>\n",
              "      <td></td>\n",
              "      <td>3.386197e+08</td>\n",
              "      <td>109447.457379</td>\n",
              "      <td>POLYGON ((-1.29593 53.73949, -1.29610 53.73951...</td>\n",
              "    </tr>\n",
              "    <tr>\n",
              "      <th>324</th>\n",
              "      <td>Yorkshire and Humber</td>\n",
              "      <td>E06000014</td>\n",
              "      <td>York</td>\n",
              "      <td>202</td>\n",
              "      <td>98.806979</td>\n",
              "      <td>14.0</td>\n",
              "      <td>E06000014</td>\n",
              "      <td>York</td>\n",
              "      <td></td>\n",
              "      <td>2.719370e+08</td>\n",
              "      <td>101957.499149</td>\n",
              "      <td>POLYGON ((-1.02065 54.05099, -1.02085 54.05105...</td>\n",
              "    </tr>\n",
              "  </tbody>\n",
              "</table>\n",
              "<p>325 rows × 12 columns</p>\n",
              "</div>\n",
              "      <button class=\"colab-df-convert\" onclick=\"convertToInteractive('df-d4fe4309-843b-4376-9af5-f67c2c4452df')\"\n",
              "              title=\"Convert this dataframe to an interactive table.\"\n",
              "              style=\"display:none;\">\n",
              "        \n",
              "  <svg xmlns=\"http://www.w3.org/2000/svg\" height=\"24px\"viewBox=\"0 0 24 24\"\n",
              "       width=\"24px\">\n",
              "    <path d=\"M0 0h24v24H0V0z\" fill=\"none\"/>\n",
              "    <path d=\"M18.56 5.44l.94 2.06.94-2.06 2.06-.94-2.06-.94-.94-2.06-.94 2.06-2.06.94zm-11 1L8.5 8.5l.94-2.06 2.06-.94-2.06-.94L8.5 2.5l-.94 2.06-2.06.94zm10 10l.94 2.06.94-2.06 2.06-.94-2.06-.94-.94-2.06-.94 2.06-2.06.94z\"/><path d=\"M17.41 7.96l-1.37-1.37c-.4-.4-.92-.59-1.43-.59-.52 0-1.04.2-1.43.59L10.3 9.45l-7.72 7.72c-.78.78-.78 2.05 0 2.83L4 21.41c.39.39.9.59 1.41.59.51 0 1.02-.2 1.41-.59l7.78-7.78 2.81-2.81c.8-.78.8-2.07 0-2.86zM5.41 20L4 18.59l7.72-7.72 1.47 1.35L5.41 20z\"/>\n",
              "  </svg>\n",
              "      </button>\n",
              "      \n",
              "  <style>\n",
              "    .colab-df-container {\n",
              "      display:flex;\n",
              "      flex-wrap:wrap;\n",
              "      gap: 12px;\n",
              "    }\n",
              "\n",
              "    .colab-df-convert {\n",
              "      background-color: #E8F0FE;\n",
              "      border: none;\n",
              "      border-radius: 50%;\n",
              "      cursor: pointer;\n",
              "      display: none;\n",
              "      fill: #1967D2;\n",
              "      height: 32px;\n",
              "      padding: 0 0 0 0;\n",
              "      width: 32px;\n",
              "    }\n",
              "\n",
              "    .colab-df-convert:hover {\n",
              "      background-color: #E2EBFA;\n",
              "      box-shadow: 0px 1px 2px rgba(60, 64, 67, 0.3), 0px 1px 3px 1px rgba(60, 64, 67, 0.15);\n",
              "      fill: #174EA6;\n",
              "    }\n",
              "\n",
              "    [theme=dark] .colab-df-convert {\n",
              "      background-color: #3B4455;\n",
              "      fill: #D2E3FC;\n",
              "    }\n",
              "\n",
              "    [theme=dark] .colab-df-convert:hover {\n",
              "      background-color: #434B5C;\n",
              "      box-shadow: 0px 1px 3px 1px rgba(0, 0, 0, 0.15);\n",
              "      filter: drop-shadow(0px 1px 2px rgba(0, 0, 0, 0.3));\n",
              "      fill: #FFFFFF;\n",
              "    }\n",
              "  </style>\n",
              "\n",
              "      <script>\n",
              "        const buttonEl =\n",
              "          document.querySelector('#df-d4fe4309-843b-4376-9af5-f67c2c4452df button.colab-df-convert');\n",
              "        buttonEl.style.display =\n",
              "          google.colab.kernel.accessAllowed ? 'block' : 'none';\n",
              "\n",
              "        async function convertToInteractive(key) {\n",
              "          const element = document.querySelector('#df-d4fe4309-843b-4376-9af5-f67c2c4452df');\n",
              "          const dataTable =\n",
              "            await google.colab.kernel.invokeFunction('convertToInteractive',\n",
              "                                                     [key], {});\n",
              "          if (!dataTable) return;\n",
              "\n",
              "          const docLinkHtml = 'Like what you see? Visit the ' +\n",
              "            '<a target=\"_blank\" href=https://colab.research.google.com/notebooks/data_table.ipynb>data table notebook</a>'\n",
              "            + ' to learn more about interactive tables.';\n",
              "          element.innerHTML = '';\n",
              "          dataTable['output_type'] = 'display_data';\n",
              "          await google.colab.output.renderOutput(dataTable, element);\n",
              "          const docLink = document.createElement('div');\n",
              "          docLink.innerHTML = docLinkHtml;\n",
              "          element.appendChild(docLink);\n",
              "        }\n",
              "      </script>\n",
              "    </div>\n",
              "  </div>\n",
              "  "
            ],
            "text/plain": [
              "               PHE_Centre  ...                                           geometry\n",
              "0           East Midlands  ...  POLYGON ((-1.49439 53.13244, -1.49537 53.13396...\n",
              "1           East Midlands  ...  POLYGON ((-1.28874 53.17140, -1.28876 53.17146...\n",
              "2           East Midlands  ...  MULTIPOLYGON (((-0.92514 53.49440, -0.92678 53...\n",
              "3           East Midlands  ...  POLYGON ((-1.19952 52.66435, -1.19968 52.66440...\n",
              "4           East Midlands  ...  POLYGON ((-1.30381 53.31289, -1.30464 53.31295...\n",
              "..                    ...  ...                                                ...\n",
              "320  Yorkshire and Humber  ...  MULTIPOLYGON (((-0.79073 54.55897, -0.79084 54...\n",
              "321  Yorkshire and Humber  ...  MULTIPOLYGON (((-1.25142 53.93546, -1.25150 53...\n",
              "322  Yorkshire and Humber  ...  POLYGON ((-1.69946 53.50280, -1.69952 53.50280...\n",
              "323  Yorkshire and Humber  ...  POLYGON ((-1.29593 53.73949, -1.29610 53.73951...\n",
              "324  Yorkshire and Humber  ...  POLYGON ((-1.02065 54.05099, -1.02085 54.05105...\n",
              "\n",
              "[325 rows x 12 columns]"
            ]
          },
          "metadata": {},
          "execution_count": 24
        }
      ]
    },
    {
      "cell_type": "markdown",
      "source": [
        "Since with geopandas packages it is possible to plot geojson data. Also matplotlib will be installed and imported just to present legend more user friendly. Bellow is the presented density of fast food outlets per 100k citizens."
      ],
      "metadata": {
        "id": "i8bQ6OFk8JWw"
      }
    },
    {
      "cell_type": "code",
      "source": [
        "england.plot(column='Rate_per_100,000_population', cmap='OrRd')"
      ],
      "metadata": {
        "colab": {
          "base_uri": "https://localhost:8080/",
          "height": 282
        },
        "id": "xmKi7v7PBMPI",
        "outputId": "3080a865-bc38-4071-d166-dd14dc7605b7"
      },
      "execution_count": 34,
      "outputs": [
        {
          "output_type": "execute_result",
          "data": {
            "text/plain": [
              "<matplotlib.axes._subplots.AxesSubplot at 0x7f5d979ed890>"
            ]
          },
          "metadata": {},
          "execution_count": 34
        },
        {
          "output_type": "display_data",
          "data": {
            "image/png": "[encoded data removed]",
            "text/plain": [
              "<Figure size 432x288 with 1 Axes>"
            ]
          },
          "metadata": {
            "needs_background": "light"
          }
        }
      ]
    },
    {
      "cell_type": "code",
      "source": [
        "england.boundary.plot()"
      ],
      "metadata": {
        "colab": {
          "base_uri": "https://localhost:8080/",
          "height": 282
        },
        "id": "DUuuPcaSCmz5",
        "outputId": "180099cd-d2e1-4f2d-f498-4dc1864291b6"
      },
      "execution_count": 27,
      "outputs": [
        {
          "output_type": "execute_result",
          "data": {
            "text/plain": [
              "<matplotlib.axes._subplots.AxesSubplot at 0x7f5d99183d50>"
            ]
          },
          "metadata": {},
          "execution_count": 27
        },
        {
          "output_type": "display_data",
          "data": {
            "image/png": "[encoded data removed]",
            "text/plain": [
              "<Figure size 432x288 with 1 Axes>"
            ]
          },
          "metadata": {
            "needs_background": "light"
          }
        }
      ]
    },
    {
      "cell_type": "markdown",
      "source": [
        "Up to the data visualization that was presented next step would be to also present socioeconomic aspects of each county. Afterwards, it is also possible to find causality between different socioeconomic groups, radius of fast-food outlets and i.e. cardiovascular diseases or Type B Diabetes."
      ],
      "metadata": {
        "id": "8vaoFBzl5K-C"
      }
    }
  ]
}